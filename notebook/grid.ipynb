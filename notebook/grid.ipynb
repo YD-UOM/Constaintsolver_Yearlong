{
 "cells": [
  {
   "cell_type": "code",
   "execution_count": 1,
   "metadata": {
    "collapsed": true
   },
   "outputs": [],
   "source": [
    "\"\"\"This module intergrate all the other module, it takes the domain PDDL, problem PDDL, and \n",
    "animation profile, and it write the visualisation file to visualsation.json.\n",
    "\"\"\"\n",
    "import sys\n",
    "import json\n",
    "import copy\n",
    "import custom_functions\n",
    "import random_color\n",
    "def get_visualisation_file():\n",
    "    \"\"\"This function will call the other modules to generate the visualisaiton file.\n",
    "    \"\"\"\n",
    "\n",
    "    animation_file = \"block_animation_profile.json\"\n",
    "    stages_file=\"blockstage.json\"\n",
    "    # read animation profile from json\n",
    "    file = open(animation_file)\n",
    "    content = file.read()\n",
    "    animation_profile = json.loads(content)\n",
    "    file.close()\n",
    "    \n",
    "    file=open(stages_file)\n",
    "    content = file.read()\n",
    "    stages_info=json.loads(content)\n",
    "    file.close()\n",
    "    get_visualisation_json(stages_info,animation_profile)"
   ]
  },
  {
   "cell_type": "code",
   "execution_count": 2,
   "metadata": {
    "collapsed": true
   },
   "outputs": [],
   "source": [
    "def add_fixed_objects(object_dic, animation_profile):\n",
    "    \"\"\"This function will added the custom object to the obj_dic\n",
    "    Args:\n",
    "        object_dic(Dictionary): a object dictionary contain the default objects.\n",
    "        animation_profile(Dictionary): the dict to store all information in animation profile.\n",
    "    \"\"\"\n",
    "    \n",
    "    for shape in animation_profile[\"objects\"][\"custom\"]:\n",
    "        objects=animation_profile[\"objects\"][\"custom\"][shape]\n",
    "        for obj_name in objects:            \n",
    "            object_dic[obj_name] = animation_profile[\"shape\"][shape]\n",
    "            object_dic[obj_name][\"name\"] = obj_name\n"
   ]
  },
  {
   "cell_type": "code",
   "execution_count": 3,
   "metadata": {
    "collapsed": true
   },
   "outputs": [],
   "source": [
    "def get_visualisation_json(predicates, animation_profile):\n",
    "    \"\"\"This function is the main function of this module, it will call the other functions\n",
    "    to manipulate the visualisation file for the unity visualiser.\n",
    "\n",
    "    Args:\n",
    "        predicates(Dictionary): an dictionary contains the 1.objects name and the 2.predicates for\n",
    "                                each stages.\n",
    "        animation_profile(Dictionary): the dict to store all information in animation profile.\n",
    "\n",
    "    \"\"\"\n",
    "\n",
    "    object_list = copy.deepcopy(predicates[\"objects\"])\n",
    "    stages = copy.deepcopy(predicates[\"stages\"])\n",
    "    predicates_rules = animation_profile[\"predicates_rules\"]\n",
    "    objects_dic = initialise_objects(object_list, animation_profile)\n",
    "    add_fixed_objects(objects_dic, animation_profile)\n",
    "    space = custom_functions.init_space(len(object_list))\n",
    "    result = solve_all_stages(stages, objects_dic, predicates_rules, space)\n",
    "\n",
    "    generate_visualisation_file(result, list(objects_dic.keys()),animation_profile[\"imageTable\"])\n"
   ]
  },
  {
   "cell_type": "code",
   "execution_count": 4,
   "metadata": {
    "collapsed": true
   },
   "outputs": [],
   "source": [
    "def initialise_objects(object_list, animation_profile):\n",
    "    \"\"\" This function initialise objects in the animation profile\n",
    "    Args:\n",
    "        object_list(List): the list to store all objects.\n",
    "        animation_profile(Dictionary): the dict to store all information in animation profile.\n",
    "    Returns:\n",
    "        unsolved_objects(Dictionary): the objects that are not initialised.\n",
    "    \"\"\"\n",
    "    unsolved_objects = {}\n",
    "    \n",
    "    predefine_objects={}\n",
    "    for predefine_type in animation_profile[\"objects\"][\"predefine\"]:\n",
    "        for objects in animation_profile[\"objects\"][\"predefine\"][predefine_type]:\n",
    "            predefine_objects[objects]=predefine_type\n",
    "            \n",
    "    \n",
    "    for objectname in object_list:\n",
    "        unsolved_objects[objectname] = {}\n",
    "        if objectname in predefine_objects:\n",
    "            obj_type = predefine_objects[objectname]\n",
    "        else:\n",
    "            obj_type = animation_profile[\"objects\"][\"default\"]\n",
    "        # update the value for each\n",
    "        for objproperty in animation_profile[\"shape\"][obj_type]:\n",
    "            value = animation_profile[\"shape\"][obj_type][objproperty]\n",
    "            if value is not False:\n",
    "                if value == \"randomcolor\":\n",
    "                    unsolved_objects[objectname][\n",
    "                        objproperty] = random_color.get_random_color()\n",
    "                    continue\n",
    "                unsolved_objects[objectname][objproperty] = value\n",
    "            else:\n",
    "                unsolved_objects[objectname][objproperty] = False\n",
    "        unsolved_objects[objectname][\"name\"] = objectname\n",
    "    return unsolved_objects"
   ]
  },
  {
   "cell_type": "code",
   "execution_count": 5,
   "metadata": {
    "collapsed": true
   },
   "outputs": [],
   "source": [
    "\n",
    "def check_rule_complete(predicate, objects_dic, predicates_rules):\n",
    "    \"\"\"This funtion will check whether the predicate can be solved.\n",
    "    It will check all the referenced object value by using the predicates_rules,\n",
    "    for example, (on a b) as an predicates, the animation rules will say to define\n",
    "    the position of a, it must know b's x postion and y position first. If b's refereced\n",
    "    value has not been defined, the check_rule_complete function will return false.\n",
    "\n",
    "    Args:\n",
    "        predicate(string): a predicate that need to be checked, eg.(on-table b).\n",
    "        objects_dic(dictionary): the current objects dictionary that need to be solved.\n",
    "        predicates_rules(dictinary): rules defined the animation rule for the predicates.\n",
    "    Returns:\n",
    "        True: if the predicate can be solved.\n",
    "        False: if the predicate can not be solved.\n",
    "    \"\"\"\n",
    "    \n",
    "    predicatename = predicate[\"name\"]\n",
    "    objectnamelist = copy.deepcopy(predicate[\"objectNames\"])\n",
    "    predicate_rule = copy.deepcopy(predicates_rules[predicatename])\n",
    "\n",
    "    if (\"left\" in predicates_rules[predicatename]):\n",
    "        objectnamelist.insert(0,0)\n",
    "    if(\"right\" in predicates_rules[predicatename]):\n",
    "        objectnamelist.append(predicates_rules[predicatename][\"right\"])\n",
    "    for rulename in predicate_rule[\"rules\"]:\n",
    "        rule = predicate_rule[rulename]\n",
    "        for key in rule:\n",
    "            # 0 is on the left side of equation\n",
    "            if key != \"value\" and key != \"0\" and key!=\"action\":\n",
    "                if key==\"require\":\n",
    "                    for objindex in rule[key]:\n",
    "                        for att in rule[key][objindex]:\n",
    "                            objectname=objectnamelist[int(objindex)]\n",
    "                            if objects_dic[objectname][att] is False:\n",
    "                                return False              \n",
    "                else:\n",
    "                    property_check = rule[key]\n",
    "                    objectname = objectnamelist[int(key)]\n",
    "                    if objects_dic[objectname][property_check] is False:\n",
    "                        return False\n",
    "    return True\n",
    "\n",
    "\n",
    "def applypredicates(predicate,\n",
    "                    objects_dic,\n",
    "                    predicates_rules,\n",
    "                    space):\n",
    "    \"\"\"update the value of realated obj in the objects_dic by applying the animation rules.\n",
    "    For example, (on-table a) will set the a's x value by using distributex function and a's\n",
    "    y value to 0.\n",
    "    Args:\n",
    "        predicate(String): a predicate that need to be solved.\n",
    "        objects_dic(dictionary): a objects dictionary that contain all the objects\n",
    "                                 and its attributes.\n",
    "        predicates_rules(dictionary):rules defined the animation rule for the predicates\n",
    "        space(array): an array that will be used for distributex funtion, it remeber the current\n",
    "                      obj that in the space.\n",
    "    \"\"\"\n",
    "    pname = predicate[\"name\"]\n",
    "    objects = copy.deepcopy(predicate[\"objectNames\"])\n",
    "    \n",
    "    if (\"left\" in predicates_rules[pname]):\n",
    "        left = predicates_rules[pname][\"left\"]\n",
    "        objects.insert(0,0)\n",
    "    else:\n",
    "        left = objects[0]\n",
    "    \n",
    "    \n",
    "    if(\"right\" in predicates_rules[pname]):\n",
    "        objects.append(predicates_rules[pname][\"right\"])\n",
    "        \n",
    "    for rulename in predicates_rules[pname][\"rules\"]:\n",
    "        if \"value\" in predicates_rules[pname][rulename]:\n",
    "            propertyname = predicates_rules[pname][rulename][\"0\"]\n",
    "            value = predicates_rules[pname][rulename][\"value\"]\n",
    "            rule = predicates_rules[pname][rulename]\n",
    "            if \"function\" in value:\n",
    "                if value[\"function\"] == \"distributex\":\n",
    "                    objects_dic[left][propertyname] = custom_functions.distributex(\n",
    "                        left, space, 20, 80, False)\n",
    "                elif value[\"function\"] == \"distribute_grid_around_pointx\":\n",
    "                    objects_dic[left][propertyname] = custom_functions.distribute_grid_around_pointx(\n",
    "                        left, 0,100)\n",
    "                elif value[\"function\"] == \"distribute_grid_around_pointy\":\n",
    "                    objects_dic[left][propertyname] = custom_functions.distribute_grid_around_pointy(\n",
    "                        left, 1,100)\n",
    "                elif value[\"function\"] == \"distribute_vertical\":\n",
    "                    node=objects[1]\n",
    "                    objects_dic[left][propertyname]= custom_functions.distribute_vertical(objects_dic[left],objects_dic[node],4,propertyname,space)\n",
    "                    \n",
    "            elif \"equal\" in value:\n",
    "                right_value = value[\"equal\"]\n",
    "                \n",
    "                if type(right_value) is not dict:#for color dic\n",
    "                    if right_value in rule:\n",
    "                        right_proterpy = rule[right_value]\n",
    "                        right_object = objects[int(right_value)]\n",
    "                        objects_dic[left][propertyname] = objects_dic[\n",
    "                            right_object][right_proterpy]\n",
    "                    else:\n",
    "                        objects_dic[left][propertyname] = right_value\n",
    "                else:\n",
    "                    objects_dic[left][propertyname] = right_value\n",
    "\n",
    "            elif \"add\" in value:\n",
    "                rightvalue = 0\n",
    "                for additem in value[\"add\"]:\n",
    "                    if additem in rule:\n",
    "                        right_property = rule[additem]\n",
    "                        right_object = objects[int(additem)]\n",
    "                        addvalue = objects_dic[right_object][right_property]\n",
    "                        rightvalue += addvalue\n",
    "                    else:\n",
    "                        rightvalue += additem\n",
    "                objects_dic[left][propertyname] = rightvalue\n",
    "        else:\n",
    "            action=predicates_rules[pname][rulename][\"action\"]\n",
    "            if \"function\" in action:\n",
    "                object1,object2=objects\n",
    "                x1=objects_dic[object1][\"x\"]+objects_dic[object1][\"width\"]/2\n",
    "                y1=objects_dic[object1][\"y\"]+objects_dic[object1][\"height\"]/2\n",
    "                x2=objects_dic[object2][\"x\"]+objects_dic[object1][\"width\"]/2\n",
    "                y2=objects_dic[object2][\"y\"]+objects_dic[object1][\"height\"]/2\n",
    "                if action[\"function\"]==\"draw_line\":\n",
    "                    key=pname+objects[0]+objects[1]\n",
    "                    objects_dic[key]=custom_functions.draw_line(x1,y1,x2,y2,key)\n",
    "                "
   ]
  },
  {
   "cell_type": "code",
   "execution_count": 6,
   "metadata": {
    "collapsed": true
   },
   "outputs": [],
   "source": [
    "\n",
    "def solvepredicates(predicates, objects_dic, predicates_rules, space):\n",
    "    \"\"\"This function will pop an predicate from a list of predicates, and try to solve\n",
    "    it, the predicate will be put back to the predicates list if it can not be solved at\n",
    "    one turn. The funtion will return true if all the predicates has been solved.\n",
    "    Args:\n",
    "        predicates(list of String): a list of predicates that need to be solved.\n",
    "        objects_dic(dictionary): a dictionary of objects that its attribtes has to be solved\n",
    "        predicates_rules(dictonaru): animation rules of predictates.\n",
    "        space(array):an array that will be used for distributex funtion, it remeber the current obj\n",
    "              that in the space.\n",
    "\n",
    "    \"\"\"\n",
    "    i=0\n",
    "    while (predicates and i<2000):\n",
    "        predicate = predicates.pop(0)\n",
    "        if predicate[\"name\"] not in predicates_rules:\n",
    "            continue\n",
    "        if check_rule_complete(predicate, objects_dic, predicates_rules):\n",
    "            applypredicates(predicate, objects_dic, predicates_rules, space)\n",
    "        else:\n",
    "            if not predicates:  # if the last predicate can not be solved\n",
    "                return False\n",
    "            predicates.append(predicate)\n",
    "        i+=1\n",
    "    return True"
   ]
  },
  {
   "cell_type": "code",
   "execution_count": 7,
   "metadata": {
    "collapsed": true
   },
   "outputs": [],
   "source": [
    "def solve_all_stages(stages, objects_dic, predicates_rules, space):\n",
    "    \"\"\"This funtion will run through each stage which contains a list of predicates, solve the\n",
    "    predictaes and get the solved visualistaion file.\n",
    "    Args:\n",
    "        stages(dictionary): a dictinonary which contain list of predicates\n",
    "                            for different stages/steps.\n",
    "        objects_dic(dictonary): a dictionary of objects which need to be solved.\n",
    "        predicates_rules: animation rules for the predicates\n",
    "        space(array):an array that will be used for distributex funtion, it remeber the current obj\n",
    "              that in the space\n",
    "    Returns:\n",
    "        result: visualisation dictionary that contain the location of each object\n",
    "                for different stages\n",
    "    \"\"\"\n",
    "    result = {}\n",
    "    result[\"visualStages\"] = []\n",
    "    for stage in stages:\n",
    "        stage_dic = {}\n",
    "        object_dic_copy = copy.deepcopy(objects_dic)\n",
    "        predicates = stage[\"items\"]\n",
    "        solvepredicates(predicates, object_dic_copy, predicates_rules, space)\n",
    "        stage_dic[\"visualSprites\"] = object_dic_copy\n",
    "        result[\"visualStages\"].append(stage_dic)\n",
    "    return result"
   ]
  },
  {
   "cell_type": "code",
   "execution_count": 8,
   "metadata": {
    "collapsed": true
   },
   "outputs": [],
   "source": [
    "def get_panel_size(result, padding=20):\n",
    "    \"\"\"This function will for loop all the objects in the visualisaiton dictionary,\n",
    "    and try to find the max_x and max_y of the panel.\n",
    "    .........max_y\n",
    "    .        .\n",
    "    .        .\n",
    "    .        .\n",
    "    ........max_x\n",
    "    Args:\n",
    "        result: visualisation dictionary that contain the location of each object\n",
    "                for different stages.\n",
    "        padding: padding between the object and the edge of the screen.\n",
    "    Returns:\n",
    "        max_x: the max x of objects.\n",
    "        max_y: the max y of objects.\n",
    "\n",
    "    \"\"\"\n",
    "    lists = result[\"visualStages\"]\n",
    "    max_x = 0\n",
    "    max_y = 0\n",
    "    min_x = 0\n",
    "    min_y=0\n",
    "    for stage in lists:\n",
    "        stageitems = stage[\"visualSprites\"]\n",
    "\n",
    "        for item in stageitems:\n",
    "            if \"x\" not in stageitems[item] or \"y\" not in stageitems[item]:\n",
    "                continue\n",
    "            x=stageitems[item][\"x\"]\n",
    "            y=stageitems[item][\"y\"]\n",
    "      \n",
    "            if type(stageitems[item][\"width\"]) is int:\n",
    "                new_x = x + stageitems[item][\"width\"]\n",
    "                if new_x > max_x:\n",
    "                    max_x = new_x\n",
    "                if x <min_x:\n",
    "                    min_x=x\n",
    "            if type(stageitems[item][\"height\"]) is int:\n",
    "                new_y = y+stageitems[item][\"height\"]\n",
    "                if new_y > max_y:\n",
    "                    max_y = new_y\n",
    "                if y<min_y:\n",
    "                    min_y=y\n",
    "    return max(max_x,max_y)+ 2 * padding,abs(min_x),abs(min_y)\n"
   ]
  },
  {
   "cell_type": "code",
   "execution_count": 17,
   "metadata": {
    "collapsed": true
   },
   "outputs": [],
   "source": [
    "def transfer(one_stage, initialobjects, panel_size,shiftx,shifty, padding=20):\n",
    "    \"\"\"This function converts the dictionary into the info needed in visualisation file.\n",
    "    Args:\n",
    "        one_stage(Dict): a dictionary contains the locaiton of objects for one stage/step\n",
    "        initialise_objects(List): the list to store all objects that needed to be\n",
    "                                  shown in the animation profile.\n",
    "        panel_width(int): the width of the animation panel.\n",
    "        panel_height(int): the height of the animation panel.\n",
    "    Returns:\n",
    "        transfered_stage(Dict): the dict to store all info needed in visualisation file.\n",
    "    \"\"\"\n",
    "    # list that stores object name\n",
    "    transfered_stage = {}\n",
    "    temp = []\n",
    "    # dict that stores new position info\n",
    "    position_dic = {\"minX\": \"\",\n",
    "                    \"maxX\": \"\",\n",
    "                    \"minY\": \"\",\n",
    "                    \"maxY\": \"\"}\n",
    "    # new position info\n",
    "    min_x = 0.0\n",
    "    max_x = 0.0\n",
    "    min_y = 0.0\n",
    "    max_y = 0.0\n",
    "    # generate new json file\n",
    "    for obj in one_stage:\n",
    "        if \"x\" not in one_stage[obj] or \"y\" not in one_stage[obj]:\n",
    "            continue\n",
    "        one_stage[obj]\n",
    "        # get all information about position\n",
    "        x_num = one_stage[obj][\"x\"]\n",
    "        y_num = one_stage[obj][\"y\"]\n",
    "        width = one_stage[obj][\"width\"]\n",
    "        # set the panel with after we got the panel width\n",
    "        if width == \"panel_size\":\n",
    "            width = panel_size - 2 * padding\n",
    "        height = one_stage[obj][\"height\"]\n",
    "        # transfer the position info into position needed in Unity\n",
    "        \n",
    "        print(width)\n",
    "        print(padding)\n",
    "        min_x = (x_num + padding+shiftx) / panel_size\n",
    "        max_x = (x_num+shiftx + width + padding) / panel_size\n",
    "        min_y = (y_num+shifty+padding) / panel_size\n",
    "        max_y = (y_num +shifty+ height+padding) / panel_size\n",
    "        position_dic[\"minX\"] = round(min_x, 3)\n",
    "        position_dic[\"maxX\"] = round(max_x, 3)\n",
    "        position_dic[\"minY\"] = round(min_y, 3)\n",
    "        position_dic[\"maxY\"] = round(max_y, 3)\n",
    "        # update the old dict\n",
    "        one_stage[obj].update(position_dic)\n",
    "        temp.append(one_stage[obj])\n",
    "    transfered_stage[\"visualSprites\"] = temp\n",
    "    return transfered_stage"
   ]
  },
  {
   "cell_type": "code",
   "execution_count": 10,
   "metadata": {
    "collapsed": true
   },
   "outputs": [],
   "source": [
    "def generate_visualisation_file(result, object_list,imageTable):\n",
    "    \"\"\"This function generates the visualisation file.\n",
    "    Args:\n",
    "        result(Dict): the dict to be converted.\n",
    "        object_list: list of all the name of the objects.\n",
    "    \"\"\"\n",
    "    final = {\"visualStages\": []}\n",
    "    one_stage = {}\n",
    "    sprite_list = []\n",
    "    lists = result[\"visualStages\"]\n",
    "    panel_size,shiftx,shifty= get_panel_size(result)\n",
    "    for item in lists:\n",
    "        one_stage = item[\"visualSprites\"]\n",
    "        sprite_list.append(\n",
    "            transfer(one_stage, object_list, panel_size,shiftx,shifty))\n",
    "    final[\"visualStages\"] = sprite_list\n",
    "    final[\"imageTable\"]=imageTable\n",
    "\n",
    "    with open('visualisation.json', 'w') as outfile:\n",
    "        json.dump(final, outfile)"
   ]
  },
  {
   "cell_type": "code",
   "execution_count": 18,
   "metadata": {},
   "outputs": [
    {
     "name": "stdout",
     "output_type": "stream",
     "text": [
      "80\n",
      "20\n",
      "80\n",
      "20\n",
      "80\n",
      "20\n",
      "80\n",
      "20\n",
      "80\n",
      "20\n",
      "80\n",
      "20\n",
      "80\n",
      "20\n",
      "80\n",
      "20\n",
      "80\n",
      "20\n",
      "80\n",
      "20\n",
      "80\n",
      "20\n",
      "panel_width\n",
      "20\n"
     ]
    },
    {
     "ename": "TypeError",
     "evalue": "unsupported operand type(s) for +: 'int' and 'str'",
     "output_type": "error",
     "traceback": [
      "\u001b[0;31m---------------------------------------------------------------------------\u001b[0m",
      "\u001b[0;31mTypeError\u001b[0m                                 Traceback (most recent call last)",
      "\u001b[0;32m<ipython-input-18-dc0da8c8bdf0>\u001b[0m in \u001b[0;36m<module>\u001b[0;34m()\u001b[0m\n\u001b[0;32m----> 1\u001b[0;31m \u001b[0mget_visualisation_file\u001b[0m\u001b[0;34m(\u001b[0m\u001b[0;34m)\u001b[0m\u001b[0;34m\u001b[0m\u001b[0m\n\u001b[0m",
      "\u001b[0;32m<ipython-input-1-ff7d45ec4584>\u001b[0m in \u001b[0;36mget_visualisation_file\u001b[0;34m()\u001b[0m\n\u001b[1;32m     23\u001b[0m     \u001b[0mstages_info\u001b[0m\u001b[0;34m=\u001b[0m\u001b[0mjson\u001b[0m\u001b[0;34m.\u001b[0m\u001b[0mloads\u001b[0m\u001b[0;34m(\u001b[0m\u001b[0mcontent\u001b[0m\u001b[0;34m)\u001b[0m\u001b[0;34m\u001b[0m\u001b[0m\n\u001b[1;32m     24\u001b[0m     \u001b[0mfile\u001b[0m\u001b[0;34m.\u001b[0m\u001b[0mclose\u001b[0m\u001b[0;34m(\u001b[0m\u001b[0;34m)\u001b[0m\u001b[0;34m\u001b[0m\u001b[0m\n\u001b[0;32m---> 25\u001b[0;31m     \u001b[0mget_visualisation_json\u001b[0m\u001b[0;34m(\u001b[0m\u001b[0mstages_info\u001b[0m\u001b[0;34m,\u001b[0m\u001b[0manimation_profile\u001b[0m\u001b[0;34m)\u001b[0m\u001b[0;34m\u001b[0m\u001b[0m\n\u001b[0m",
      "\u001b[0;32m<ipython-input-3-d9deee7fb584>\u001b[0m in \u001b[0;36mget_visualisation_json\u001b[0;34m(predicates, animation_profile)\u001b[0m\n\u001b[1;32m     18\u001b[0m     \u001b[0mresult\u001b[0m \u001b[0;34m=\u001b[0m \u001b[0msolve_all_stages\u001b[0m\u001b[0;34m(\u001b[0m\u001b[0mstages\u001b[0m\u001b[0;34m,\u001b[0m \u001b[0mobjects_dic\u001b[0m\u001b[0;34m,\u001b[0m \u001b[0mpredicates_rules\u001b[0m\u001b[0;34m,\u001b[0m \u001b[0mspace\u001b[0m\u001b[0;34m)\u001b[0m\u001b[0;34m\u001b[0m\u001b[0m\n\u001b[1;32m     19\u001b[0m \u001b[0;34m\u001b[0m\u001b[0m\n\u001b[0;32m---> 20\u001b[0;31m     \u001b[0mgenerate_visualisation_file\u001b[0m\u001b[0;34m(\u001b[0m\u001b[0mresult\u001b[0m\u001b[0;34m,\u001b[0m \u001b[0mlist\u001b[0m\u001b[0;34m(\u001b[0m\u001b[0mobjects_dic\u001b[0m\u001b[0;34m.\u001b[0m\u001b[0mkeys\u001b[0m\u001b[0;34m(\u001b[0m\u001b[0;34m)\u001b[0m\u001b[0;34m)\u001b[0m\u001b[0;34m,\u001b[0m\u001b[0manimation_profile\u001b[0m\u001b[0;34m[\u001b[0m\u001b[0;34m\"imageTable\"\u001b[0m\u001b[0;34m]\u001b[0m\u001b[0;34m)\u001b[0m\u001b[0;34m\u001b[0m\u001b[0m\n\u001b[0m",
      "\u001b[0;32m<ipython-input-10-c0d9dadd83a2>\u001b[0m in \u001b[0;36mgenerate_visualisation_file\u001b[0;34m(result, object_list, imageTable)\u001b[0m\n\u001b[1;32m     13\u001b[0m         \u001b[0mone_stage\u001b[0m \u001b[0;34m=\u001b[0m \u001b[0mitem\u001b[0m\u001b[0;34m[\u001b[0m\u001b[0;34m\"visualSprites\"\u001b[0m\u001b[0;34m]\u001b[0m\u001b[0;34m\u001b[0m\u001b[0m\n\u001b[1;32m     14\u001b[0m         sprite_list.append(\n\u001b[0;32m---> 15\u001b[0;31m             transfer(one_stage, object_list, panel_size,shiftx,shifty))\n\u001b[0m\u001b[1;32m     16\u001b[0m     \u001b[0mfinal\u001b[0m\u001b[0;34m[\u001b[0m\u001b[0;34m\"visualStages\"\u001b[0m\u001b[0;34m]\u001b[0m \u001b[0;34m=\u001b[0m \u001b[0msprite_list\u001b[0m\u001b[0;34m\u001b[0m\u001b[0m\n\u001b[1;32m     17\u001b[0m     \u001b[0mfinal\u001b[0m\u001b[0;34m[\u001b[0m\u001b[0;34m\"imageTable\"\u001b[0m\u001b[0;34m]\u001b[0m\u001b[0;34m=\u001b[0m\u001b[0mimageTable\u001b[0m\u001b[0;34m\u001b[0m\u001b[0m\n",
      "\u001b[0;32m<ipython-input-17-f2368f5f16d5>\u001b[0m in \u001b[0;36mtransfer\u001b[0;34m(one_stage, initialobjects, panel_size, shiftx, shifty, padding)\u001b[0m\n\u001b[1;32m     41\u001b[0m         \u001b[0mprint\u001b[0m\u001b[0;34m(\u001b[0m\u001b[0mpadding\u001b[0m\u001b[0;34m)\u001b[0m\u001b[0;34m\u001b[0m\u001b[0m\n\u001b[1;32m     42\u001b[0m         \u001b[0mmin_x\u001b[0m \u001b[0;34m=\u001b[0m \u001b[0;34m(\u001b[0m\u001b[0mx_num\u001b[0m \u001b[0;34m+\u001b[0m \u001b[0mpadding\u001b[0m\u001b[0;34m+\u001b[0m\u001b[0mshiftx\u001b[0m\u001b[0;34m)\u001b[0m \u001b[0;34m/\u001b[0m \u001b[0mpanel_size\u001b[0m\u001b[0;34m\u001b[0m\u001b[0m\n\u001b[0;32m---> 43\u001b[0;31m         \u001b[0mmax_x\u001b[0m \u001b[0;34m=\u001b[0m \u001b[0;34m(\u001b[0m\u001b[0mx_num\u001b[0m\u001b[0;34m+\u001b[0m\u001b[0mshiftx\u001b[0m \u001b[0;34m+\u001b[0m \u001b[0mwidth\u001b[0m \u001b[0;34m+\u001b[0m \u001b[0mpadding\u001b[0m\u001b[0;34m)\u001b[0m \u001b[0;34m/\u001b[0m \u001b[0mpanel_size\u001b[0m\u001b[0;34m\u001b[0m\u001b[0m\n\u001b[0m\u001b[1;32m     44\u001b[0m         \u001b[0mmin_y\u001b[0m \u001b[0;34m=\u001b[0m \u001b[0;34m(\u001b[0m\u001b[0my_num\u001b[0m\u001b[0;34m+\u001b[0m\u001b[0mshifty\u001b[0m\u001b[0;34m+\u001b[0m\u001b[0mpadding\u001b[0m\u001b[0;34m)\u001b[0m \u001b[0;34m/\u001b[0m \u001b[0mpanel_size\u001b[0m\u001b[0;34m\u001b[0m\u001b[0m\n\u001b[1;32m     45\u001b[0m         \u001b[0mmax_y\u001b[0m \u001b[0;34m=\u001b[0m \u001b[0;34m(\u001b[0m\u001b[0my_num\u001b[0m \u001b[0;34m+\u001b[0m\u001b[0mshifty\u001b[0m\u001b[0;34m+\u001b[0m \u001b[0mheight\u001b[0m\u001b[0;34m+\u001b[0m\u001b[0mpadding\u001b[0m\u001b[0;34m)\u001b[0m \u001b[0;34m/\u001b[0m \u001b[0mpanel_size\u001b[0m\u001b[0;34m\u001b[0m\u001b[0m\n",
      "\u001b[0;31mTypeError\u001b[0m: unsupported operand type(s) for +: 'int' and 'str'"
     ]
    }
   ],
   "source": [
    "get_visualisation_file()"
   ]
  },
  {
   "cell_type": "code",
   "execution_count": 12,
   "metadata": {
    "collapsed": true
   },
   "outputs": [],
   "source": [
    "abc={}\n",
    "abc[\"a\"]={\"c\":{}}"
   ]
  },
  {
   "cell_type": "code",
   "execution_count": 17,
   "metadata": {},
   "outputs": [
    {
     "ename": "TypeError",
     "evalue": "unhashable type: 'dict'",
     "output_type": "error",
     "traceback": [
      "\u001b[0;31m---------------------------------------------------------------------------\u001b[0m",
      "\u001b[0;31mTypeError\u001b[0m                                 Traceback (most recent call last)",
      "\u001b[0;32m<ipython-input-17-17d4de16ea44>\u001b[0m in \u001b[0;36m<module>\u001b[0;34m()\u001b[0m\n\u001b[0;32m----> 1\u001b[0;31m \u001b[0;34m{\u001b[0m\u001b[0;34m}\u001b[0m \u001b[0;32min\u001b[0m \u001b[0mabc\u001b[0m\u001b[0;34m\u001b[0m\u001b[0m\n\u001b[0m",
      "\u001b[0;31mTypeError\u001b[0m: unhashable type: 'dict'"
     ]
    }
   ],
   "source": []
  },
  {
   "cell_type": "code",
   "execution_count": 1,
   "metadata": {},
   "outputs": [
    {
     "name": "stdout",
     "output_type": "stream",
     "text": [
      "{'distribute_vertical': {}}\n"
     ]
    }
   ],
   "source": [
    "gspace={}\n",
    "gspace[\"distribute_vertical\"]={}\n",
    "def distribute_vertical(obj,node,colcount,axis,gspace):\n",
    "    \n",
    "    objname=obj[\"name\"]\n",
    "    nodename=node[\"name\"]\n",
    "    space=gspace[\"distribute_vertical\"]\n",
    "    if nodename not in space:\n",
    "        space[nodename]=[0]\n",
    "    print(space)\n",
    "    if axis ==\"x\":\n",
    "        if objname in space[nodename]:\n",
    "            objindex = space[nodename].index(objname)\n",
    "            return node[\"x\"]+int(objindex/colcount)*obj[\"width\"]\n",
    "        else:\n",
    "            for num, value in enumerate(space[nodename]):\n",
    "                if num == value:\n",
    "                    space[nodename][num] = objname\n",
    "                    space[nodename].append(num+1)\n",
    "                    print(\"?\")\n",
    "                    return node[\"x\"]+int(num/colcount)*obj[\"width\"]\n",
    "    else:\n",
    "        if objname in space[nodename]:\n",
    "            objindex = space[nodename].index(objname)\n",
    "            return node[\"y\"]+(objindex%colcount)*obj[\"height\"]\n",
    "        else:\n",
    "            for num, value in enumerate(space[nodename]):\n",
    "                if num == value:\n",
    "                    space[nodename][num] = objname\n",
    "                    space[nodename].append(num+1)\n",
    "                    return node[\"y\"]+(num%colcount)*obj[\"height\"]\n",
    "\n",
    "print(gspace)"
   ]
  },
  {
   "cell_type": "code",
   "execution_count": 10,
   "metadata": {},
   "outputs": [
    {
     "name": "stdout",
     "output_type": "stream",
     "text": [
      "{'node': ['abcdd1', 'abcdd11', 2], 'node2': [0]}\n",
      "10\n"
     ]
    }
   ],
   "source": [
    "print(distribute_vertical({\"name\":\"abcdd11\",\"width\":20,\"height\":20},{\"name\":\"node2\",\"x\":10,\"y\":10},4,\"y\",gspace))"
   ]
  },
  {
   "cell_type": "code",
   "execution_count": 12,
   "metadata": {},
   "outputs": [
    {
     "name": "stdout",
     "output_type": "stream",
     "text": [
      "{'distribute_vertical': {'node': ['abcdd1', 'abcdd11', 2], 'node2': ['abcdd11', 1]}}\n"
     ]
    }
   ],
   "source": [
    "print(gspace)\n"
   ]
  },
  {
   "cell_type": "code",
   "execution_count": 23,
   "metadata": {},
   "outputs": [
    {
     "data": {
      "text/plain": [
       "2"
      ]
     },
     "execution_count": 23,
     "metadata": {},
     "output_type": "execute_result"
    }
   ],
   "source": [
    "5%3"
   ]
  },
  {
   "cell_type": "code",
   "execution_count": 20,
   "metadata": {},
   "outputs": [
    {
     "data": {
      "text/plain": [
       "1"
      ]
     },
     "execution_count": 20,
     "metadata": {},
     "output_type": "execute_result"
    }
   ],
   "source": [
    "1%7"
   ]
  },
  {
   "cell_type": "code",
   "execution_count": 34,
   "metadata": {
    "collapsed": true
   },
   "outputs": [],
   "source": [
    "obj1={\"name\":\"p1\",\"width\":100}\n",
    "obj2={\"name\":\"d2\",\"width\":100}\n",
    "gspace={\"apply_smaller\":{}}\n",
    "def apply_smaller(obj1,obj2,decrease_width,gspace):\n",
    "    obj1name=obj1[\"name\"]\n",
    "    obj2name=obj2[\"name\"]\n",
    "    #remove the digital char\n",
    "    obj1type=''.join(filter(lambda x: x.isalpha(), obj1name))\n",
    "    obj2type=''.join(filter(lambda x: x.isalpha(), obj2name))\n",
    "    space=gspace[\"apply_smaller\"]\n",
    "    \n",
    "    if obj1type==obj2type:\n",
    "        if obj1name not in space:\n",
    "            space[obj1name]=1\n",
    "        else:\n",
    "            space[obj1name]=space[obj1name]+1\n",
    "        return obj1[\"width\"]-space[obj1name]*decrease_width\n",
    "    else:\n",
    "        return obj1[\"width\"]\n",
    "        \n",
    "    \n",
    "    "
   ]
  },
  {
   "cell_type": "code",
   "execution_count": 36,
   "metadata": {},
   "outputs": [
    {
     "data": {
      "text/plain": [
       "100"
      ]
     },
     "execution_count": 36,
     "metadata": {},
     "output_type": "execute_result"
    }
   ],
   "source": [
    "apply_smaller(obj1,obj2,2,gspace)"
   ]
  },
  {
   "cell_type": "code",
   "execution_count": 17,
   "metadata": {},
   "outputs": [
    {
     "data": {
      "text/plain": [
       "'aaasdffgh'"
      ]
     },
     "execution_count": 17,
     "metadata": {},
     "output_type": "execute_result"
    }
   ],
   "source": [
    "def mykey(adict): return adict['name']\n",
    "x = [{'name': 'Homer', 'age': 39}, {'name': 'Bart', 'age':10}]\n",
    "sorted(x, key=mykey)"
   ]
  },
  {
   "cell_type": "code",
   "execution_count": 37,
   "metadata": {},
   "outputs": [
    {
     "ename": "SyntaxError",
     "evalue": "invalid syntax (<ipython-input-37-70b40f243392>, line 2)",
     "output_type": "error",
     "traceback": [
      "\u001b[0;36m  File \u001b[0;32m\"<ipython-input-37-70b40f243392>\"\u001b[0;36m, line \u001b[0;32m2\u001b[0m\n\u001b[0;31m    return animation[]\u001b[0m\n\u001b[0m                     ^\u001b[0m\n\u001b[0;31mSyntaxError\u001b[0m\u001b[0;31m:\u001b[0m invalid syntax\n"
     ]
    }
   ],
   "source": [
    "def priority(predicate,animation):\n",
    "    return animation[]\n",
    "    "
   ]
  },
  {
   "cell_type": "code",
   "execution_count": 46,
   "metadata": {},
   "outputs": [
    {
     "name": "stdout",
     "output_type": "stream",
     "text": [
      "[0, 2, 3]\n",
      "[2, 0, 3]\n"
     ]
    }
   ],
   "source": [
    "a=[2,0,3]\n",
    "print(sorted([2,0,3]))\n",
    "print(a)"
   ]
  },
  {
   "cell_type": "code",
   "execution_count": 9,
   "metadata": {
    "collapsed": true
   },
   "outputs": [],
   "source": [
    "import re\n",
    "def distributey(obj,spacebtw):\n",
    "    \"\"\"The function return the x location of object of an given space\"\"\"\n",
    "    objname=obj[\"name\"]\n",
    "    height=obj[\"height\"]\n",
    "    row=int(re.findall('\\d+',objname))\n",
    "\n",
    "\n",
    "    return row*height+spacebtw\n"
   ]
  },
  {
   "cell_type": "code",
   "execution_count": 10,
   "metadata": {},
   "outputs": [
    {
     "ename": "TypeError",
     "evalue": "int() argument must be a string, a bytes-like object or a number, not 'list'",
     "output_type": "error",
     "traceback": [
      "\u001b[0;31m---------------------------------------------------------------------------\u001b[0m",
      "\u001b[0;31mTypeError\u001b[0m                                 Traceback (most recent call last)",
      "\u001b[0;32m<ipython-input-10-107ae596d966>\u001b[0m in \u001b[0;36m<module>\u001b[0;34m()\u001b[0m\n\u001b[1;32m      1\u001b[0m \u001b[0mobj\u001b[0m\u001b[0;34m=\u001b[0m\u001b[0;34m{\u001b[0m\u001b[0;34m\"name\"\u001b[0m\u001b[0;34m:\u001b[0m\u001b[0;34m\"city6\"\u001b[0m\u001b[0;34m,\u001b[0m\u001b[0;34m\"height\"\u001b[0m\u001b[0;34m:\u001b[0m\u001b[0;36m20\u001b[0m\u001b[0;34m}\u001b[0m\u001b[0;34m\u001b[0m\u001b[0m\n\u001b[0;32m----> 2\u001b[0;31m \u001b[0mdistributey\u001b[0m\u001b[0;34m(\u001b[0m\u001b[0mobj\u001b[0m\u001b[0;34m,\u001b[0m\u001b[0;36m20\u001b[0m\u001b[0;34m)\u001b[0m\u001b[0;34m\u001b[0m\u001b[0m\n\u001b[0m",
      "\u001b[0;32m<ipython-input-9-9c1977a3de54>\u001b[0m in \u001b[0;36mdistributey\u001b[0;34m(obj, spacebtw)\u001b[0m\n\u001b[1;32m      4\u001b[0m     \u001b[0mobjname\u001b[0m\u001b[0;34m=\u001b[0m\u001b[0mobj\u001b[0m\u001b[0;34m[\u001b[0m\u001b[0;34m\"name\"\u001b[0m\u001b[0;34m]\u001b[0m\u001b[0;34m\u001b[0m\u001b[0m\n\u001b[1;32m      5\u001b[0m     \u001b[0mheight\u001b[0m\u001b[0;34m=\u001b[0m\u001b[0mobj\u001b[0m\u001b[0;34m[\u001b[0m\u001b[0;34m\"height\"\u001b[0m\u001b[0;34m]\u001b[0m\u001b[0;34m\u001b[0m\u001b[0m\n\u001b[0;32m----> 6\u001b[0;31m     \u001b[0mrow\u001b[0m\u001b[0;34m=\u001b[0m\u001b[0mint\u001b[0m\u001b[0;34m(\u001b[0m\u001b[0mre\u001b[0m\u001b[0;34m.\u001b[0m\u001b[0mfindall\u001b[0m\u001b[0;34m(\u001b[0m\u001b[0;34m'\\d+'\u001b[0m\u001b[0;34m,\u001b[0m\u001b[0mobjname\u001b[0m\u001b[0;34m)\u001b[0m\u001b[0;34m)\u001b[0m\u001b[0;34m\u001b[0m\u001b[0m\n\u001b[0m\u001b[1;32m      7\u001b[0m \u001b[0;34m\u001b[0m\u001b[0m\n\u001b[1;32m      8\u001b[0m \u001b[0;34m\u001b[0m\u001b[0m\n",
      "\u001b[0;31mTypeError\u001b[0m: int() argument must be a string, a bytes-like object or a number, not 'list'"
     ]
    }
   ],
   "source": [
    "obj={\"name\":\"city6\",\"height\":20}\n",
    "distributey(obj,20)"
   ]
  },
  {
   "cell_type": "code",
   "execution_count": 13,
   "metadata": {},
   "outputs": [
    {
     "data": {
      "text/plain": [
       "6"
      ]
     },
     "execution_count": 13,
     "metadata": {},
     "output_type": "execute_result"
    }
   ],
   "source": [
    "int(re.findall('\\d+',\"city6\")[0])"
   ]
  },
  {
   "cell_type": "code",
   "execution_count": null,
   "metadata": {
    "collapsed": true
   },
   "outputs": [],
   "source": []
  }
 ],
 "metadata": {
  "kernelspec": {
   "display_name": "Python 3",
   "language": "python",
   "name": "python3"
  },
  "language_info": {
   "codemirror_mode": {
    "name": "ipython",
    "version": 3
   },
   "file_extension": ".py",
   "mimetype": "text/x-python",
   "name": "python",
   "nbconvert_exporter": "python",
   "pygments_lexer": "ipython3",
   "version": "3.6.1"
  }
 },
 "nbformat": 4,
 "nbformat_minor": 2
}
